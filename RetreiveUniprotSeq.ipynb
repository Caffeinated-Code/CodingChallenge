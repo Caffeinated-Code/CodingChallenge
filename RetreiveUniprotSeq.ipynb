{
 "cells": [
  {
   "cell_type": "code",
   "execution_count": 4,
   "metadata": {},
   "outputs": [],
   "source": [
    "from Bio import ExPASy\n",
    "from Bio import SwissProt"
   ]
  },
  {
   "cell_type": "code",
   "execution_count": 5,
   "metadata": {},
   "outputs": [
    {
     "name": "stdout",
     "output_type": "stream",
     "text": [
      "Please enter the Uniprot ID to retrieve relevant record: O15534\n"
     ]
    }
   ],
   "source": [
    "ID = input(\"Please enter the Uniprot ID to retrieve relevant record: \")\n",
    "ID = str.rstrip(ID)\n",
    "ID = ID.replace(' ', '')"
   ]
  },
  {
   "cell_type": "code",
   "execution_count": 6,
   "metadata": {},
   "outputs": [
    {
     "data": {
      "text/plain": [
       "['__class__',\n",
       " '__delattr__',\n",
       " '__dict__',\n",
       " '__dir__',\n",
       " '__doc__',\n",
       " '__eq__',\n",
       " '__format__',\n",
       " '__ge__',\n",
       " '__getattribute__',\n",
       " '__gt__',\n",
       " '__hash__',\n",
       " '__init__',\n",
       " '__init_subclass__',\n",
       " '__le__',\n",
       " '__lt__',\n",
       " '__module__',\n",
       " '__ne__',\n",
       " '__new__',\n",
       " '__reduce__',\n",
       " '__reduce_ex__',\n",
       " '__repr__',\n",
       " '__setattr__',\n",
       " '__sizeof__',\n",
       " '__str__',\n",
       " '__subclasshook__',\n",
       " '__weakref__',\n",
       " 'accessions',\n",
       " 'annotation_update',\n",
       " 'comments',\n",
       " 'created',\n",
       " 'cross_references',\n",
       " 'data_class',\n",
       " 'description',\n",
       " 'entry_name',\n",
       " 'features',\n",
       " 'gene_name',\n",
       " 'host_organism',\n",
       " 'host_taxonomy_id',\n",
       " 'keywords',\n",
       " 'molecule_type',\n",
       " 'organelle',\n",
       " 'organism',\n",
       " 'organism_classification',\n",
       " 'protein_existence',\n",
       " 'references',\n",
       " 'seqinfo',\n",
       " 'sequence',\n",
       " 'sequence_length',\n",
       " 'sequence_update',\n",
       " 'taxonomy_id']"
      ]
     },
     "execution_count": 6,
     "metadata": {},
     "output_type": "execute_result"
    }
   ],
   "source": [
    "handle = ExPASy.get_sprot_raw(ID)\n",
    "record = SwissProt.read(handle)\n",
    "dir(record)"
   ]
  },
  {
   "cell_type": "code",
   "execution_count": 7,
   "metadata": {},
   "outputs": [
    {
     "data": {
      "text/plain": [
       "'MSGPLEGADGGGDPRPGESFCPGGVPSPGPPQHRPCPGPSLADDTDANSNGSSGNESNGHESRGASQRSSHSSSSGNGKDSALLETTESSKSTNSQSPSPPSSSIAYSLLSASSEQDNPSTSGCSSEQSARARTQKELMTALRELKLRLPPERRGKGRSGTLATLQYALACVKQVQANQEYYQQWSLEEGEPCSMDMSTYTLEELEHITSEYTLQNQDTFSVAVSFLTGRIVYISEQAAVLLRCKRDVFRGTRFSELLAPQDVGVFYGSTAPSRLPTWGTGASAGSGLRDFTQEKSVFCRIRGGPDRDPGPRYQPFRLTPYVTKIRVSDGAPAQPCCLLIAERIHSGYEAPRIPPDKRIFTTRHTPSCLFQDVDERAAPLLGYLPQDLLGAPVLLFLHPEDRPLMLAIHKKILQLAGQPFDHSPIRFCARNGEYVTMDTSWAGFVHPWSRKVAFVLGRHKVRTAPLNEDVFTPPAPSPAPSLDTDIQELSEQIHRLLLQPVHSPSPTGLCGVGAVTSPGPLHSPGSSSDSNGGDAEGPGPPAPVTFQQICKDVHLVKHQGQQLFIESRARPQSRPRLPATGTFKAKALPCQSPDPELEAGSAPVQAPLALVPEEAERKEASSCSYQQINCLDSILRYLESCNLPSTTKRKCASSSSYTTSSASDDDRQRTGPVSVGTKKDPPSAALSGEGATPRKEPVVGGTLSPLALANKAESVVSVTSQCSFSSTIVHVGDKKPPESDIIMMEDLPGLAPGPAPSPAPSPTVAPDPAPDAYRPVGLTKAVLSLHTQKEEQAFLSRFRDLGRLRGLDSSSTAPSALGERGCHHGPAPPSRRHHCRSKAKRSRHHQNPRAEAPCYVSHPSPVPPSTPWPTPPATTPFPAVVQPYPLPVFSPRGGPQPLPPAPTSVPPAAFPAPLVTPMVALVLPNYLFPTPSSYPYGALQTPAEGPPTPASHSPSPSLPALAPSPPHRPDSPLFNSRCSSPLQLNLLQLEELPRAEGAAVAGGPGSSAGPPPPSAEAAEPEARLAEVTESSNQDALSGSSDLLELLLQEDSRSGTGSAASGSLGSGLGSGSGSGSHEGGSTSASITRSSQSSHTSKYFGSIDSSEAEAGAARGGAEPGDQVIKYVLQDPIWLLMANADQRVMMTYQVPSRDMTSVLKQDRERLRAMQKQQPRFSEDQRRELGAVHSWVRKGQLPRALDVMACVDCGSSTQDPGHPDDPLFSELDGLGLEPMEEGGGEQGSSGGGSGEGEGCEEAQGGAKASSSQDLAMEEEEEGRSSSSPALPTAGNCTS'"
      ]
     },
     "execution_count": 7,
     "metadata": {},
     "output_type": "execute_result"
    }
   ],
   "source": [
    "record.sequence"
   ]
  },
  {
   "cell_type": "code",
   "execution_count": 8,
   "metadata": {},
   "outputs": [
    {
     "data": {
      "text/plain": [
       "[\"FUNCTION: Transcriptional repressor which forms a core component of the circadian clock. The circadian clock, an internal time- keeping system, regulates various physiological processes through the generation of approximately 24 hour circadian rhythms in gene expression, which are translated into rhythms in metabolism and behavior. It is derived from the Latin roots 'circa' (about) and 'diem' (day) and acts as an important regulator of a wide array of physiological functions including metabolism, sleep, body temperature, blood pressure, endocrine, immune, cardiovascular, and renal function. Consists of two major components: the central clock, residing in the suprachiasmatic nucleus (SCN) of the brain, and the peripheral clocks that are present in nearly every tissue and organ system. Both the central and peripheral clocks can be reset by environmental cues, also known as Zeitgebers (German for 'timegivers'). The predominant Zeitgeber for the central clock is light, which is sensed by retina and signals directly to the SCN. The central clock entrains the peripheral clocks through neuronal and hormonal signals, body temperature and feeding-related cues, aligning all clocks with the external light/dark cycle. Circadian rhythms allow an organism to achieve temporal homeostasis with its environment at the molecular level by regulating gene expression to create a peak of protein expression once every 24 hours to control when a particular physiological process is most active with respect to the solar day. Transcription and translation of core clock components (CLOCK, NPAS2, ARNTL/BMAL1, ARNTL2/BMAL2, PER1, PER2, PER3, CRY1 and CRY2) plays a critical role in rhythm generation, whereas delays imposed by post-translational modifications (PTMs) are important for determining the period (tau) of the rhythms (tau refers to the period of a rhythm and is the length, in time, of one complete cycle). A diurnal rhythm is synchronized with the day/night cycle, while the ultradian and infradian rhythms have a period shorter and longer than 24 hours, respectively. Disruptions in the circadian rhythms contribute to the pathology of cardiovascular diseases, cancer, metabolic syndromes and aging. A transcription/translation feedback loop (TTFL) forms the core of the molecular circadian clock mechanism. Transcription factors, CLOCK or NPAS2 and ARNTL/BMAL1 or ARNTL2/BMAL2, form the positive limb of the feedback loop, act in the form of a heterodimer and activate the transcription of core clock genes and clock-controlled genes (involved in key metabolic processes), harboring E-box elements (5'-CACGTG-3') within their promoters. The core clock genes: PER1/2/3 and CRY1/2 which are transcriptional repressors form the negative limb of the feedback loop and interact with the CLOCK|NPAS2-ARNTL/BMAL1|ARNTL2/BMAL2 heterodimer inhibiting its activity and thereby negatively regulating their own expression. This heterodimer also activates nuclear receptors NR1D1/2 and RORA/B/G, which form a second feedback loop and which activate and repress ARNTL/BMAL1 transcription, respectively. Regulates circadian target genes expression at post-transcriptional levels, but may not be required for the repression at transcriptional level. Controls PER2 protein decay. Represses CRY2 preventing its repression on CLOCK/ARNTL target genes such as FXYD5 and SCNN1A in kidney and PPARA in liver. Besides its involvement in the maintenance of the circadian clock, has an important function in the regulation of several processes. Participates in the repression of glucocorticoid receptor NR3C1/GR-induced transcriptional activity by reducing the association of NR3C1/GR to glucocorticoid response elements (GREs) by ARNTL:CLOCK. Plays a role in the modulation of the neuroinflammatory state via the regulation of inflammatory mediators release, such as CCL2 and IL6. In spinal astrocytes, negatively regulates the MAPK14/p38 and MAPK8/JNK MAPK cascades as well as the subsequent activation of NFkappaB. Coordinately regulates the expression of multiple genes that are involved in the regulation of renal sodium reabsorption. Can act as gene expression activator in a gene and tissue specific manner, in kidney enhances WNK1 and SLC12A3 expression in collaboration with CLOCK. Modulates hair follicle cycling. Represses the CLOCK- ARNTL/BMAL1 induced transcription of BHLHE40/DEC1. {ECO:0000269|PubMed:24005054}.\",\n",
       " 'SUBUNIT: Homodimer (By similarity). Component of the circadian core oscillator, which includes the CRY proteins, CLOCK or NPAS2, ARNTL/BMAL1 or ARNTL2/BMAL2, CSNK1D and/or CSNK1E, TIMELESS, and the PER proteins (By similarity). Interacts directly with TIMELESS, PER2, PER3, CRY1 and CRY2 (By similarity). Interacts with ARNTL/BMAL1 and CLOCK (By similarity). Interacts with GPRASP1 (By similarity). Interacts (phosphorylated) with BTRC and FBXW11; the interactions trigger proteasomal degradation (PubMed:15917222). Interacts with NONO, WDR5 and SFPQ (By similarity). Interacts with USP2 (By similarity). Interacts with HNF4A (PubMed:30530698). {ECO:0000250|UniProtKB:O35973, ECO:0000250|UniProtKB:Q8CHI5, ECO:0000269|PubMed:15917222, ECO:0000269|PubMed:30530698}.',\n",
       " 'INTERACTION: Q9R194:Cry2 (xeno); NbExp=3; IntAct=EBI-2557276, EBI-1266619;',\n",
       " 'SUBCELLULAR LOCATION: Nucleus. Cytoplasm. Note=Nucleocytoplasmic shuttling is effected by interaction with other circadian core oscillator proteins and/or by phosphorylation. Retention of PER1 in the cytoplasm occurs through PER1-PER2 heterodimer formation. Translocate to the nucleus after phosphorylation by CSNK1D or CSNK1E. Also translocated to the nucleus by CRY1 or CRY2 (By similarity). {ECO:0000250}.',\n",
       " 'ALTERNATIVE PRODUCTS: Event=Alternative splicing; Named isoforms=4;   Comment=Additional isoforms seem to exist.; Name=Rigui 4.7;   IsoId=O15534-1; Sequence=Displayed; Name=Rigui 3.0;   IsoId=O15534-2; Sequence=Not described; Name=Rigui 6.6; Synonyms=Truncated;   IsoId=O15534-3; Sequence=Not described; Name=2;   IsoId=O15534-4; Sequence=VSP_056205, VSP_056206, VSP_056207;   Note=No experimental confirmation available.;',\n",
       " 'TISSUE SPECIFICITY: Widely expressed. Expressed in hair follicles (at protein level).Found in heart, brain, placenta, lung, liver, skeletal muscle, pancreas, kidney, spleen, thymus, prostate, testis, ovary and small intestine. Highest level in skeletal muscle. {ECO:0000269|PubMed:14750904, ECO:0000269|PubMed:24005054, ECO:0000269|PubMed:9333243, ECO:0000269|PubMed:9427249}.',\n",
       " 'INDUCTION: Serum-induced levels in fibroblasts show circadian oscillations. Maximum levels after 1 hour stimulation, minimum levels after 12 hours. Another peak is then observed after 20 hours. Protein levels show maximum levels at 6 hours, decrease to reach minimum levels at 20 hours, and increase again to reach a second peak after 26 hours. Levels then decrease slightly and then increase to maximum levels at 32 hours. Levels of phosphorylated form increase between 3 hours and 12 hours. {ECO:0000269|PubMed:14750904}.',\n",
       " 'PTM: Phosphorylated on serine residues by CSNK1D, CSNK1E and probably also by CSNK1G2. Phosphorylation by CSNK1D or CSNK1E promotes nuclear location of PER proteins as well as ubiquitination and subsequent degradation. May be dephosphorylated by PP1. {ECO:0000269|PubMed:15917222}.',\n",
       " 'PTM: Ubiquitinated; requires phosphorylation by CSNK1E and interaction with BTRC and FBXW11. Deubiquitinated by USP2 (By similarity). {ECO:0000250|UniProtKB:O35973, ECO:0000269|PubMed:15917222}.',\n",
       " 'SEQUENCE CAUTION: Sequence=BAC06326.2; Type=Erroneous initiation; Note=Translation N-terminally shortened.; Evidence={ECO:0000305};']"
      ]
     },
     "execution_count": 8,
     "metadata": {},
     "output_type": "execute_result"
    }
   ],
   "source": [
    "record.comments"
   ]
  },
  {
   "cell_type": "code",
   "execution_count": null,
   "metadata": {},
   "outputs": [],
   "source": []
  }
 ],
 "metadata": {
  "kernelspec": {
   "display_name": "Python 3",
   "language": "python",
   "name": "python3"
  },
  "language_info": {
   "codemirror_mode": {
    "name": "ipython",
    "version": 3
   },
   "file_extension": ".py",
   "mimetype": "text/x-python",
   "name": "python",
   "nbconvert_exporter": "python",
   "pygments_lexer": "ipython3",
   "version": "3.7.3"
  }
 },
 "nbformat": 4,
 "nbformat_minor": 2
}
