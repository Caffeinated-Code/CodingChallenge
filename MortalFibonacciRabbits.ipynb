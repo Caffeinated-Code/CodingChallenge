{
 "cells": [
  {
   "cell_type": "code",
   "execution_count": null,
   "metadata": {},
   "outputs": [],
   "source": [
    "#Recall the definition of the Fibonacci numbers from “Rabbits and Recurrence Relations”, which followed the recurrence relation Fn=Fn−1+Fn−2 and assumed that each pair of rabbits reaches maturity in one month and produces a single pair of offspring (one male, one female) each subsequent month.\n",
    "\n",
    "#Our aim is to somehow modify this recurrence relation to achieve a dynamic programming solution in the case that all rabbits die out after a fixed number of months. See Figure 4 for a depiction of a rabbit tree in which rabbits live for three months (meaning that they reproduce only twice before dying).\n",
    "\n",
    "#Given: Positive integers n≤100 and m≤20.\n",
    "\n",
    "#Return: The total number of pairs of rabbits that will remain after the n-th month if all rabbits live for m months.\n",
    "\n",
    "\n",
    "n = input(\"Number of generations,n to calculate? 2 < n <= 100: \")\n",
    "m = input(\"Life span of rabbits? \")\n",
    "n = int(n)\n",
    "m = int(m)"
   ]
  },
  {
   "cell_type": "code",
   "execution_count": 50,
   "metadata": {},
   "outputs": [],
   "source": [
    "bunnypairs = [1,1] #Bunny count at each month\n",
    "#Seeding: During First two months there is only one rabbit pair\n",
    "def mortalBunnyPairCounter(i,j): #i|||n; j|||m\n",
    "    month = 2\n",
    "    #i, j are zero-based indices\n",
    "    while (month < i): #Calculating only till n. \n",
    "        if (month < j): #As long as bunny pairs do not reach age of death\n",
    "            #Case of immortal bunnies: Fibonacci Sequence = Sum of populations of previous two generations \n",
    "            #When m = 3, [1,1,2]\n",
    "            bunnypairs.append(bunnypairs[-2] + bunnypairs[-1]) \n",
    "        elif (month == j or month == j+1): #When bunny pairs reach age of death\n",
    "            #Poor founding bunny pair dies at month 3\n",
    "            # ==j   : Month 3 required for calculating month 4 (month 2 + month 3)\n",
    "            # ==j+1 : Month 3 also required for calculation month 5 (month 3 + month 4)\n",
    "            # When m = 3, [1,1,2,2,3]\n",
    "            bunnypairs.append((bunnypairs[-2] + bunnypairs[-1]) - 1) \n",
    "        else: #For months 6, 7, 8...n\n",
    "            #Bunny pairs keep dying after turning 3 months \n",
    "            #When m = 3, [1,1,2,2,3,4,...]\n",
    "            bunnypairs.append((bunnypairs[-2] + bunnypairs[-1]) - (bunnypairs[-(j+1)])) \n",
    "        month += 1 #Increment month till n\n",
    "    return (bunnypairs)\n",
    "            "
   ]
  },
  {
   "cell_type": "code",
   "execution_count": 51,
   "metadata": {},
   "outputs": [],
   "source": [
    "bunnyPairDynamics = list(mortalBunnyPairCounter(n,m))"
   ]
  },
  {
   "cell_type": "code",
   "execution_count": 52,
   "metadata": {},
   "outputs": [],
   "source": [
    "month = list(range(1, n+1))"
   ]
  },
  {
   "cell_type": "code",
   "execution_count": 53,
   "metadata": {},
   "outputs": [],
   "source": [
    "import pandas as pd\n",
    "populationData = pd.DataFrame(\n",
    "    {'Bunny Pair Count': bunnyPairDynamics,\n",
    "     'Month': month\n",
    "    })"
   ]
  },
  {
   "cell_type": "code",
   "execution_count": 63,
   "metadata": {},
   "outputs": [
    {
     "data": {
      "image/png": "[encoded data removed]",
      "text/plain": [
       "<Figure size 486.1x360 with 1 Axes>"
      ]
     },
     "metadata": {},
     "output_type": "display_data"
    }
   ],
   "source": [
    "import matplotlib.pyplot as plt\n",
    "import seaborn as sns\n",
    "sns.set(style=\"darkgrid\")\n",
    "sns.relplot(x=\"Month\", y=\"Bunny Pair Count\", data=populationData, markers=True, size=\"Bunny Pair Count\"  );"
   ]
  },
  {
   "cell_type": "code",
   "execution_count": null,
   "metadata": {},
   "outputs": [],
   "source": []
  },
  {
   "cell_type": "code",
   "execution_count": null,
   "metadata": {},
   "outputs": [],
   "source": []
  }
 ],
 "metadata": {
  "kernelspec": {
   "display_name": "Python 3",
   "language": "python",
   "name": "python3"
  },
  "language_info": {
   "codemirror_mode": {
    "name": "ipython",
    "version": 3
   },
   "file_extension": ".py",
   "mimetype": "text/x-python",
   "name": "python",
   "nbconvert_exporter": "python",
   "pygments_lexer": "ipython3",
   "version": "3.7.3"
  }
 },
 "nbformat": 4,
 "nbformat_minor": 2
}
